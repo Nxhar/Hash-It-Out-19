{
 "cells": [
  {
   "cell_type": "code",
   "execution_count": 17,
   "metadata": {},
   "outputs": [],
   "source": [
    "from PyPDF2 import PdfReader\n",
    "\n",
    "from langchain.embeddings import OpenAIEmbeddings\n",
    "from langchain.text_splitter import CharacterTextSplitter\n",
    "from langchain.vectorstores import FAISS\n",
    "from langchain.chains import ConversationalRetrievalChain\n",
    "from langchain.memory import ConversationBufferMemory\n",
    "from langchain.chat_models import ChatOpenAI \n",
    "\n",
    "import tiktoken\n",
    "import os\n",
    "\n",
    "from APIkey import OPENAI_KEY"
   ]
  },
  {
   "cell_type": "code",
   "execution_count": 7,
   "metadata": {},
   "outputs": [],
   "source": [
    "text = ''\n",
    "reader = PdfReader('Plant diseases .pdf')\n",
    "for page in reader.pages:\n",
    "    text += page.extract_text()"
   ]
  },
  {
   "cell_type": "code",
   "execution_count": 10,
   "metadata": {},
   "outputs": [],
   "source": [
    "text_splitter = CharacterTextSplitter(\n",
    "separator = \"\\n\",\n",
    "chunk_size = 1000,\n",
    "chunk_overlap = 200,\n",
    "length_function = len\n",
    ")\n",
    "\n",
    "chunks = text_splitter.split_text(text)\n"
   ]
  },
  {
   "cell_type": "code",
   "execution_count": 66,
   "metadata": {},
   "outputs": [],
   "source": [
    "embeddings = OpenAIEmbeddings(openai_api_key=OPENAI_KEY)\n",
    "\n",
    "vectorstore = FAISS.from_texts(texts = chunks , embedding = embeddings)\n",
    "\n",
    "memory = ConversationBufferMemory(memory_key='chat_history', return_messages=True)\n",
    "\n",
    "conversation_chain = ConversationalRetrievalChain.from_llm(\n",
    "        llm=ChatOpenAI(model='gpt-4',openai_api_key=OPENAI_KEY),\n",
    "        retriever=vectorstore.as_retriever(),\n",
    "        memory=memory\n",
    "    )"
   ]
  },
  {
   "cell_type": "code",
   "execution_count": 29,
   "metadata": {},
   "outputs": [],
   "source": [
    "query = 'Split all the main topics of the text into fully distinguishable and understandable sub topics in comma seperated words. Output only all the sub topics of the text in comma seperated words only.'\n",
    "\n",
    "result = conversation_chain({'question':query})"
   ]
  },
  {
   "cell_type": "code",
   "execution_count": 30,
   "metadata": {},
   "outputs": [
    {
     "data": {
      "text/plain": [
       "['Seed and seedling diseases',\n",
       " ' smuts',\n",
       " ' wilts',\n",
       " ' root and crown rots',\n",
       " ' leaf blights',\n",
       " ' viruses',\n",
       " ' nematodes.']"
      ]
     },
     "execution_count": 30,
     "metadata": {},
     "output_type": "execute_result"
    }
   ],
   "source": [
    "topics =  result['answer'].split(',')\n",
    "topics"
   ]
  },
  {
   "cell_type": "code",
   "execution_count": 34,
   "metadata": {},
   "outputs": [],
   "source": [
    "# TOPIC SUPPOSED TO BE TAUGHT\n",
    "topic = 'Nematodes' # input['topic']\n",
    "\n",
    "# WAY OF TEACHING \n",
    "teacher = 'Pirate' # input['teacher']\n",
    "\n",
    "\n",
    "query = f'Teach the subtopic : {topic} in the style of a {teacher}, in an understandable and fun way.'\n",
    "\n",
    "output = conversation_chain({\"question\": query })\n"
   ]
  },
  {
   "cell_type": "code",
   "execution_count": 35,
   "metadata": {},
   "outputs": [
    {
     "data": {
      "text/plain": [
       "\"Arr matey, gather 'round and let me spin ye a tale of these tiny creatures from the deep, the nematodes! These be not your typical sea monsters, but microscopic roundworms that roam the seven seas of soil, clutching their hollow needle-like mouthparts, the stylets, to puncture and feed on the hearty treasure of plant cells.\\n\\nNematodes, they be a crafty bunch, developing and feeding both inside and outside of a plant. And beware, sailors, they are easy to spread on your boots, tools, and ship equipment. \\n\\nTheir life journey, it be a strange one, starting as an egg, moving through several larval stages, and ending as an adult. Most of their young ones look just like small adults. But, should the seas turn rough and conditions become unfavorable, the females of some species transform into dormant, resistant forms called cysts. These cysts, they be as tough as a barnacle-covered hull, protecting their eggs for up to a decade!\\n\\nWhen a nematode attacks, the plant victim shows signs of struggle - stunting, yellowing, loss of vigor, and a general decline. If the attack be severe, it may even lead to the death of the plant. Arr, but don't be fooled, many other problems can cause these same symptoms, so you'll need to test your soil and roots if you suspect a nematode assault.\\n\\nNow, if ye be asking how to fight off these tiny sea monsters, ye need to turn to good ol' cultural practices - crop rotation, planting resistant varieties, and using nematicides. So heave ho, matey, and keep a weather eye open for these nematode scoundrels!\""
      ]
     },
     "execution_count": 35,
     "metadata": {},
     "output_type": "execute_result"
    }
   ],
   "source": [
    "output['answer']"
   ]
  },
  {
   "cell_type": "code",
   "execution_count": 73,
   "metadata": {},
   "outputs": [
    {
     "name": "stdout",
     "output_type": "stream",
     "text": [
      " * Serving Flask app '__main__'\n",
      " * Debug mode: off\n"
     ]
    },
    {
     "name": "stderr",
     "output_type": "stream",
     "text": [
      "WARNING: This is a development server. Do not use it in a production deployment. Use a production WSGI server instead.\n",
      " * Running on http://127.0.0.1:5000\n",
      "Press CTRL+C to quit\n",
      "127.0.0.1 - - [06/Oct/2023 19:14:50] \"OPTIONS /hint HTTP/1.1\" 200 -\n",
      "127.0.0.1 - - [06/Oct/2023 19:15:04] \"POST /hint HTTP/1.1\" 200 -\n",
      "127.0.0.1 - - [06/Oct/2023 19:15:31] \"OPTIONS /hint HTTP/1.1\" 200 -\n",
      "127.0.0.1 - - [06/Oct/2023 19:15:46] \"POST /hint HTTP/1.1\" 200 -\n",
      "127.0.0.1 - - [06/Oct/2023 19:16:15] \"OPTIONS /hint HTTP/1.1\" 200 -\n",
      "127.0.0.1 - - [06/Oct/2023 19:16:42] \"POST /hint HTTP/1.1\" 200 -\n",
      "127.0.0.1 - - [06/Oct/2023 19:18:27] \"OPTIONS /hint HTTP/1.1\" 200 -\n",
      "127.0.0.1 - - [06/Oct/2023 19:18:47] \"POST /hint HTTP/1.1\" 200 -\n",
      "127.0.0.1 - - [06/Oct/2023 19:19:42] \"OPTIONS /hint HTTP/1.1\" 200 -\n",
      "127.0.0.1 - - [06/Oct/2023 19:19:56] \"POST /hint HTTP/1.1\" 200 -\n",
      "127.0.0.1 - - [06/Oct/2023 20:04:16] \"OPTIONS / HTTP/1.1\" 200 -\n",
      "127.0.0.1 - - [06/Oct/2023 20:04:48] \"POST / HTTP/1.1\" 200 -\n",
      "127.0.0.1 - - [06/Oct/2023 20:05:52] \"OPTIONS /run HTTP/1.1\" 200 -\n",
      "127.0.0.1 - - [06/Oct/2023 20:05:58] \"POST /run HTTP/1.1\" 200 -\n",
      "127.0.0.1 - - [06/Oct/2023 20:06:39] \"OPTIONS /hint HTTP/1.1\" 200 -\n",
      "127.0.0.1 - - [06/Oct/2023 20:06:55] \"POST /hint HTTP/1.1\" 200 -\n",
      "127.0.0.1 - - [06/Oct/2023 20:15:40] \"OPTIONS / HTTP/1.1\" 200 -\n",
      "127.0.0.1 - - [06/Oct/2023 20:16:17] \"POST / HTTP/1.1\" 200 -\n",
      "127.0.0.1 - - [06/Oct/2023 20:17:05] \"OPTIONS / HTTP/1.1\" 200 -\n",
      "127.0.0.1 - - [06/Oct/2023 20:17:38] \"POST / HTTP/1.1\" 200 -\n",
      "127.0.0.1 - - [06/Oct/2023 20:17:52] \"OPTIONS / HTTP/1.1\" 200 -\n",
      "127.0.0.1 - - [06/Oct/2023 20:18:19] \"POST / HTTP/1.1\" 200 -\n",
      "127.0.0.1 - - [06/Oct/2023 20:52:32] \"OPTIONS / HTTP/1.1\" 200 -\n",
      "127.0.0.1 - - [06/Oct/2023 20:53:23] \"POST / HTTP/1.1\" 200 -\n",
      "127.0.0.1 - - [06/Oct/2023 20:54:22] \"OPTIONS /hint HTTP/1.1\" 200 -\n",
      "127.0.0.1 - - [06/Oct/2023 20:54:52] \"POST /hint HTTP/1.1\" 200 -\n"
     ]
    }
   ],
   "source": [
    "from flask import Flask, request, jsonify\n",
    "from flask_cors import CORS\n",
    "\n",
    "# Processed version of the Data!\n",
    "\n",
    "app = Flask(__name__)\n",
    "\n",
    "CORS(app)\n",
    "\n",
    "def process(input):\n",
    "    \n",
    "    # TOPIC SUPPOSED TO BE TAUGHT\n",
    "        topic = input['topic']\n",
    "\n",
    "        # WAY OF TEACHING \n",
    "        teacher = input['teacher']\n",
    "\n",
    "        if input['understood'] == True:\n",
    "            query = f'Teach the subtopic : {topic} in the style of a {teacher}, in an understandable and fun way.  Also generate a fun quiz based on the text you have generated which the user will answer.'\n",
    "        else: \n",
    "            query = f'I did not understand what you just said, could you repeat that in a more understandable and simple way?'\n",
    "        output = conversation_chain({\"question\": query })\n",
    "        return output['answer']\n",
    "    \n",
    "def processRun(input):\n",
    "     query = f'''Here is some code, provide only output for it: \n",
    "     {input} \n",
    " Even if you dont have the ability to execute code, just give the predicted output, DO NOT PROVIDE ANY UNNECESSARY TEXT OTHER THAN ONLY OUTPUT'''\n",
    "     output = conversation_chain({\"question\": query })\n",
    "     return output['answer']\n",
    "\n",
    "def processHint(input):\n",
    "    # STATICALLY MENTIONING PROBLEM STATEMENT BECAUSE NO TIME\n",
    "    query = f'''Here is some code, the idea is to print the sum of 2 numbers, but I am stuck. Please help me : \n",
    "        {input} \n",
    "Please give me some hints on how to solve this    '''\n",
    "\n",
    "    output = conversation_chain({'question':query})\n",
    "    return output['answer']\n",
    "        \n",
    "\n",
    "@app.route('/', methods=['POST'])\n",
    "def echo():\n",
    "    try:\n",
    "\n",
    "        data = request.get_json()\n",
    "        \n",
    "        # Check if 'info' key exists in the JSON data\n",
    "\n",
    "        if 'info' in data:\n",
    "            returnable = process(data['info'])\n",
    "            return jsonify(returnable)\n",
    "           \n",
    "        \n",
    "        \n",
    "    except Exception as e:\n",
    "        return e\n",
    "    \n",
    "@app.route('/get-topics')\n",
    "def return_topics():\n",
    "    return topics\n",
    "\n",
    "@app.route('/run', methods=['POST'])\n",
    "def run():\n",
    "    data = request.get_json()\n",
    "\n",
    "    returnable = processRun(data['info'])\n",
    "    return jsonify(returnable)\n",
    "\n",
    "@app.route('/hint', methods=['POST'])\n",
    "def hint():\n",
    "    data = request.get_json()\n",
    "\n",
    "    returnable = processHint(data['info'])\n",
    "    return jsonify(returnable)\n",
    "\n",
    "if __name__ == '__main__':\n",
    "    app.run()\n",
    "\n"
   ]
  }
 ],
 "metadata": {
  "kernelspec": {
   "display_name": "Python 3",
   "language": "python",
   "name": "python3"
  },
  "language_info": {
   "codemirror_mode": {
    "name": "ipython",
    "version": 3
   },
   "file_extension": ".py",
   "mimetype": "text/x-python",
   "name": "python",
   "nbconvert_exporter": "python",
   "pygments_lexer": "ipython3",
   "version": "3.11.5"
  }
 },
 "nbformat": 4,
 "nbformat_minor": 2
}
